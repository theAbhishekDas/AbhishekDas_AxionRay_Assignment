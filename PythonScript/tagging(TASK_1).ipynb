{
  "nbformat": 4,
  "nbformat_minor": 0,
  "metadata": {
    "colab": {
      "provenance": []
    },
    "kernelspec": {
      "name": "python3",
      "display_name": "Python 3"
    },
    "language_info": {
      "name": "python"
    }
  },
  "cells": [
    {
      "cell_type": "code",
      "execution_count": 8,
      "metadata": {
        "colab": {
          "base_uri": "https://localhost:8080/"
        },
        "id": "LweSc1ltqKV7",
        "outputId": "0c7fbae9-428f-471b-8318-b4d2fc7d05c2"
      },
      "outputs": [
        {
          "output_type": "stream",
          "name": "stdout",
          "text": [
            "    Primary Key Order Date Product Category  \\\n",
            "0   SO0026296-1 2023-03-08           SPRAYS   \n",
            "1   SO0026385-1 2023-03-08           SPRAYS   \n",
            "2  SO0026385-11 2023-03-08           SPRAYS   \n",
            "3   SO0028352-1 2023-03-08           SPRAYS   \n",
            "4   SO0028770-1 2023-03-08           SPRAYS   \n",
            "\n",
            "                                           Complaint  \\\n",
            "0  VISIBLY NOTICE fasteners under cab on P clips ...   \n",
            "1                       Fuel door will not stay open   \n",
            "2   Compressor pressure line, braided steel, crushed   \n",
            "3                 Oil running from bottom of machine   \n",
            "4                   MISSING VECTOR & INTRIP UNLOCKS.   \n",
            "\n",
            "                                               Cause  \\\n",
            "0                            Not tighten at factory.   \n",
            "1     GAS STRUT NOT INSTALLED OR ANYWHERE ON MACHINE   \n",
            "2  Compressor pressure line, braided steel, crush...   \n",
            "3  OIL RETURN UNDER MACHINE SWIVEL FITTING LEFT L...   \n",
            "4  MISSING VECTOR & INTRIP UNLOCKS WERE NOT INSTA...   \n",
            "\n",
            "                                          Correction     Root Cause  \\\n",
            "0  GO THROUGH AND RE-TIGHTEN ALL P CLIPS, NUTS, A...  Not Tightened   \n",
            "1  FOUND GAS STRUT NOT INSTALLED OR ANYWHERE ON M...  Not Installed   \n",
            "2  DRAIN AIR FROM SYSTEM.REMOVE ASSOCIATED P CLIP...            NaN   \n",
            "3  OIL RETURN UNDER MACHINE SWIVEL FITTING LEFT L...            NaN   \n",
            "4          INSTALLED MISSING UNLOCKS RAN AND TESTED.            NaN   \n",
            "\n",
            "  Symptom Condition 1 Symptom Component 1 Symptom Condition 2  \\\n",
            "0               Loose          Cab P Clip               Loose   \n",
            "1     Won't stay open           Fuel Door                 NaN   \n",
            "2                 NaN                 NaN                 NaN   \n",
            "3                 NaN                 NaN                 NaN   \n",
            "4                 NaN                 NaN                 NaN   \n",
            "\n",
            "  Symptom Component 2 Symptom Condition 3 Symptom Component 3 Fix Condition 1  \\\n",
            "0       Left-Air Duct               Loose  Bulkhead Connector     Retightened   \n",
            "1                 NaN                 NaN                 NaN       Installed   \n",
            "2                 NaN                 NaN                 NaN             NaN   \n",
            "3                 NaN                 NaN                 NaN             NaN   \n",
            "4                 NaN                 NaN                 NaN             NaN   \n",
            "\n",
            "  Fix Component 1 Fix Condition 2 Fix Component 2 Fix Condition 3  \\\n",
            "0      Cab P Clip     Retightened   Left Air Duct     Retightened   \n",
            "1       Gas Strut             NaN             NaN             NaN   \n",
            "2             NaN             NaN             NaN             NaN   \n",
            "3             NaN             NaN             NaN             NaN   \n",
            "4             NaN             NaN             NaN             NaN   \n",
            "\n",
            "      Fix Component 3  \n",
            "0  Bulkhead Connector  \n",
            "1                 NaN  \n",
            "2                 NaN  \n",
            "3                 NaN  \n",
            "4                 NaN  \n",
            "      Root Cause Symptom Condition          Symptom Component  Fix Condition  \\\n",
            "0  Not Tightened              Loose                Cab P Clip    Retightened   \n",
            "1  Not Installed    Won't stay open                 Fuel Door      Installed   \n",
            "2  Not Mentioned            Crushed  Compressor Pressure Line       Replaced   \n",
            "3       Loosened        Oil Running             Not Mentioned     Topped Off   \n",
            "4   Not Included            Missing                    Vector  Not Mentioned   \n",
            "\n",
            "   Fix Component  \n",
            "0     Cab P Clip  \n",
            "1      Gas Strut  \n",
            "2  Braided Steel  \n",
            "3         O-Ring  \n",
            "4         Vector  \n"
          ]
        }
      ],
      "source": [
        "import pandas as pd\n",
        "\n",
        "file_path = \"DA - Task 1..xlsx\"\n",
        "xls = pd.ExcelFile(file_path)\n",
        "\n",
        "task_df = xls.parse(\"Task\")\n",
        "taxonomy_df = xls.parse(\"Taxonomy\")\n",
        "\n",
        "print(task_df.head())\n",
        "print(taxonomy_df.head())"
      ]
    },
    {
      "cell_type": "code",
      "source": [
        "print(task_df.columns)\n",
        "print(taxonomy_df.columns)"
      ],
      "metadata": {
        "colab": {
          "base_uri": "https://localhost:8080/"
        },
        "id": "h91axYU8sxkW",
        "outputId": "51dd9e33-6717-46a6-915c-a945c1f4f677"
      },
      "execution_count": 9,
      "outputs": [
        {
          "output_type": "stream",
          "name": "stdout",
          "text": [
            "Index(['Primary Key', 'Order Date', 'Product Category', 'Complaint', 'Cause',\n",
            "       'Correction', 'Root Cause', 'Symptom Condition 1',\n",
            "       'Symptom Component 1', 'Symptom Condition 2', 'Symptom Component 2',\n",
            "       'Symptom Condition 3', 'Symptom Component 3', 'Fix Condition 1',\n",
            "       'Fix Component 1', 'Fix Condition 2', 'Fix Component 2',\n",
            "       'Fix Condition 3', 'Fix Component 3'],\n",
            "      dtype='object')\n",
            "Index(['Root Cause', 'Symptom Condition ', 'Symptom Component',\n",
            "       'Fix Condition', 'Fix Component'],\n",
            "      dtype='object')\n"
          ]
        }
      ]
    },
    {
      "cell_type": "code",
      "source": [
        "root_cause_list = taxonomy_df[\"Root Cause\"].dropna().unique()\n",
        "\n",
        "def tag_root_cause(cause_text):\n",
        "    if pd.isna(cause_text):\n",
        "        return \"Not Mentioned\"\n",
        "    for root_cause in root_cause_list:\n",
        "        if root_cause.lower() in cause_text.lower():\n",
        "            return root_cause\n",
        "    return \"Not Mentioned\"\n",
        "\n",
        "task_df[\"Root Cause (Tagged)\"] = task_df[\"Cause\"].apply(tag_root_cause)\n",
        "\n",
        "print(task_df[[\"Cause\", \"Root Cause (Tagged)\"]].head(10))"
      ],
      "metadata": {
        "colab": {
          "base_uri": "https://localhost:8080/"
        },
        "id": "zcgOyxD_s0bb",
        "outputId": "aaef3b24-73b2-4b8c-828e-85032311b0f3"
      },
      "execution_count": 10,
      "outputs": [
        {
          "output_type": "stream",
          "name": "stdout",
          "text": [
            "                                               Cause Root Cause (Tagged)\n",
            "0                            Not tighten at factory.         Not Tighten\n",
            "1     GAS STRUT NOT INSTALLED OR ANYWHERE ON MACHINE       Not Installed\n",
            "2  Compressor pressure line, braided steel, crush...       Not Mentioned\n",
            "3  OIL RETURN UNDER MACHINE SWIVEL FITTING LEFT L...       Not Mentioned\n",
            "4  MISSING VECTOR & INTRIP UNLOCKS WERE NOT INSTA...       Not Installed\n",
            "5                               Coupler was leaking.             Leaking\n",
            "6                          NOT INCLUDED FROM FACTORY        Not Included\n",
            "7  O-RING ON MALE QUICK CONNECT STICKING OUT OF F...      Out of Fitting\n",
            "8                                        BLOWN ORING               Blown\n",
            "9                           POOR MATERIAL IN HARNESS       Poor Material\n"
          ]
        }
      ]
    },
    {
      "cell_type": "code",
      "source": [
        "taxonomy_df.columns = taxonomy_df.columns.str.strip()\n",
        "symptom_condition_list = taxonomy_df[\"Symptom Condition\"].dropna().unique()\n",
        "symptom_component_list = taxonomy_df[\"Symptom Component\"].dropna().unique()\n",
        "\n",
        "def tag_symptom_condition(complaint_text):\n",
        "    if pd.isna(complaint_text):\n",
        "        return \"Not Mentioned\"\n",
        "    for symptom in symptom_condition_list:\n",
        "        if symptom.lower() in complaint_text.lower():\n",
        "            return symptom\n",
        "    return \"Not Mentioned\"\n",
        "\n",
        "def tag_symptom_component(complaint_text):\n",
        "    if pd.isna(complaint_text):\n",
        "        return \"Not Mentioned\"\n",
        "    for component in symptom_component_list:\n",
        "        if component.lower() in complaint_text.lower():\n",
        "            return component\n",
        "    return \"Not Mentioned\"\n",
        "\n",
        "task_df[\"Symptom Condition (Tagged)\"] = task_df[\"Complaint\"].apply(tag_symptom_condition)\n",
        "task_df[\"Symptom Component (Tagged)\"] = task_df[\"Complaint\"].apply(tag_symptom_component)\n",
        "\n",
        "print(task_df[[\"Complaint\", \"Symptom Condition (Tagged)\", \"Symptom Component (Tagged)\"]].head(10))"
      ],
      "metadata": {
        "colab": {
          "base_uri": "https://localhost:8080/"
        },
        "id": "I2qnDIu5s3Og",
        "outputId": "51dbfcb6-a365-497d-9e1f-8dc471d9ce57"
      },
      "execution_count": 11,
      "outputs": [
        {
          "output_type": "stream",
          "name": "stdout",
          "text": [
            "                                           Complaint  \\\n",
            "0  VISIBLY NOTICE fasteners under cab on P clips ...   \n",
            "1                       Fuel door will not stay open   \n",
            "2   Compressor pressure line, braided steel, crushed   \n",
            "3                 Oil running from bottom of machine   \n",
            "4                   MISSING VECTOR & INTRIP UNLOCKS.   \n",
            "5  OIL DRIPPING FROM COUPLER OF RETURN LINE TO PR...   \n",
            "6       COMPONENTS MISSING ON BOOM TO MOUNT SMV SIGN   \n",
            "7  OIL DRIPPING FROM BOTTOM OF MACHINEPICTURES IN...   \n",
            "8                                           OIL LEAK   \n",
            "9                                      HARNESS BROKE   \n",
            "\n",
            "  Symptom Condition (Tagged) Symptom Component (Tagged)  \n",
            "0                      Loose              Not Mentioned  \n",
            "1                       Open                  Fuel Door  \n",
            "2                    Crushed   Compressor Pressure Line  \n",
            "3                Oil Running              Not Mentioned  \n",
            "4                    Missing                     Vector  \n",
            "5               Oil Dripping                    Coupler  \n",
            "6                    Missing                       Boom  \n",
            "7               Oil Dripping              Not Mentioned  \n",
            "8                   Oil Leak              Not Mentioned  \n",
            "9                      Broke                    Harness  \n"
          ]
        }
      ]
    },
    {
      "cell_type": "code",
      "source": [
        "fix_condition_list = taxonomy_df[\"Fix Condition\"].dropna().unique()\n",
        "fix_component_list = taxonomy_df[\"Fix Component\"].dropna().unique()\n",
        "\n",
        "def tag_fix_condition(correction_text):\n",
        "    if pd.isna(correction_text):\n",
        "        return \"Not Mentioned\"\n",
        "    for fix in fix_condition_list:\n",
        "        if fix.lower() in correction_text.lower():\n",
        "            return fix\n",
        "    return \"Not Mentioned\"\n",
        "\n",
        "def tag_fix_component(correction_text):\n",
        "    if pd.isna(correction_text):\n",
        "        return \"Not Mentioned\"\n",
        "    for component in fix_component_list:\n",
        "        if component.lower() in correction_text.lower():\n",
        "            return component\n",
        "    return \"Not Mentioned\"\n",
        "\n",
        "task_df[\"Fix Condition (Tagged)\"] = task_df[\"Correction\"].apply(tag_fix_condition)\n",
        "task_df[\"Fix Component (Tagged)\"] = task_df[\"Correction\"].apply(tag_fix_component)\n",
        "\n",
        "print(task_df[[\"Correction\", \"Fix Condition (Tagged)\", \"Fix Component (Tagged)\"]].head(10))"
      ],
      "metadata": {
        "colab": {
          "base_uri": "https://localhost:8080/"
        },
        "id": "BX8HbYrhs6-n",
        "outputId": "300f7050-1ce1-46ab-97ff-4ae21919152c"
      },
      "execution_count": 12,
      "outputs": [
        {
          "output_type": "stream",
          "name": "stdout",
          "text": [
            "                                          Correction Fix Condition (Tagged)  \\\n",
            "0  GO THROUGH AND RE-TIGHTEN ALL P CLIPS, NUTS, A...          Not Mentioned   \n",
            "1  FOUND GAS STRUT NOT INSTALLED OR ANYWHERE ON M...              Installed   \n",
            "2  DRAIN AIR FROM SYSTEM.REMOVE ASSOCIATED P CLIP...          Not Mentioned   \n",
            "3  OIL RETURN UNDER MACHINE SWIVEL FITTING LEFT L...          Not Mentioned   \n",
            "4          INSTALLED MISSING UNLOCKS RAN AND TESTED.              Installed   \n",
            "5  REMOVE COUPLER FREE UP WITH HAMMER AND SOCKET ...          Not Mentioned   \n",
            "6  SERVICE CALL 7 MILES.INSTALL MISSING BRACKETS ...          Not Mentioned   \n",
            "7  SERVICE CALL14 MILES.O-RING ON MALE QUICK CONN...          Not Mentioned   \n",
            "8  LOADED TRUCK AND DROVE OUT TO SPRAYER GOT TO S...          Not Mentioned   \n",
            "9  I WAS OUT TO FARM AND I REPLACED THE NCV HARNE...              Installed   \n",
            "\n",
            "  Fix Component (Tagged)  \n",
            "0                  Bolts  \n",
            "1              Gas Strut  \n",
            "2          Braided Steel  \n",
            "3                 O-Ring  \n",
            "4          Not Mentioned  \n",
            "5                Coupler  \n",
            "6               Brackets  \n",
            "7                 O-Ring  \n",
            "8                  Oring  \n",
            "9            NCV Harness  \n"
          ]
        }
      ]
    }
  ]
}